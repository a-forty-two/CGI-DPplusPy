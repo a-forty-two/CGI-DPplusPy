{
  "nbformat": 4,
  "nbformat_minor": 0,
  "metadata": {
    "colab": {
      "name": "Untitled25.ipynb",
      "provenance": [],
      "authorship_tag": "ABX9TyOMVvVnz1Vu10rbAgg1SHa0",
      "include_colab_link": true
    },
    "kernelspec": {
      "name": "python3",
      "display_name": "Python 3"
    },
    "language_info": {
      "name": "python"
    }
  },
  "cells": [
    {
      "cell_type": "markdown",
      "metadata": {
        "id": "view-in-github",
        "colab_type": "text"
      },
      "source": [
        "<a href=\"https://colab.research.google.com/github/a-forty-two/CGI-DPplusPy/blob/main/01_py_datastructures.ipynb\" target=\"_parent\"><img src=\"https://colab.research.google.com/assets/colab-badge.svg\" alt=\"Open In Colab\"/></a>"
      ]
    },
    {
      "cell_type": "code",
      "metadata": {
        "id": "nTOtMnNi1XMp"
      },
      "source": [
        "#python -> Spark, Synapse Spark Pools-> PySpark or Scala "
      ],
      "execution_count": 1,
      "outputs": []
    },
    {
      "cell_type": "code",
      "metadata": {
        "id": "FtxEzxSp3Uqu"
      },
      "source": [
        "# EASY to write\n",
        "# why?-> easy to read, simple syntax\n",
        "# why not?-> SPEED and performance-> 72 times slower than C++/C#, 15-20 times slower than Java "
      ],
      "execution_count": 2,
      "outputs": []
    },
    {
      "cell_type": "code",
      "metadata": {
        "id": "smK0zMoa3grQ"
      },
      "source": [
        "# Pipelines-> small amount of instructions with isolation ,\n",
        " # transforming the data -> correction and ease is more important than VOLUME\n",
        " # PARALLEL processing "
      ],
      "execution_count": 3,
      "outputs": []
    },
    {
      "cell_type": "code",
      "metadata": {
        "id": "WT1lYVzv3vAo"
      },
      "source": [
        "# python-> precompiled C++\n",
        "# Datasets -> read/writing, stats, tansforming, visualize \n",
        "# Application program interface-> REST-> GET/POST/PUT/DEL \n",
        "# Machine Learning-> try "
      ],
      "execution_count": 5,
      "outputs": []
    },
    {
      "cell_type": "code",
      "metadata": {
        "id": "dynWJdpK5KnG"
      },
      "source": [
        "#OBJECT ORIENTED"
      ],
      "execution_count": 6,
      "outputs": []
    },
    {
      "cell_type": "code",
      "metadata": {
        "id": "tGX3n9ur76sM"
      },
      "source": [
        "# class-> special functions-> initialize the constructors and main function of C/C++ running behind the scenes\n",
        "# INDENTATION-> spaces, tabs-> misplacing them will result in compilation error"
      ],
      "execution_count": 7,
      "outputs": []
    },
    {
      "cell_type": "code",
      "metadata": {
        "id": "bfbd94j48Fk2"
      },
      "source": [
        "def banana(val1,val2):\n",
        "  return val1+val2"
      ],
      "execution_count": 8,
      "outputs": []
    },
    {
      "cell_type": "code",
      "metadata": {
        "colab": {
          "base_uri": "https://localhost:8080/"
        },
        "id": "F9Nud0Gj8Obl",
        "outputId": "06af0857-69de-40d0-d216-b2e0151042d0"
      },
      "source": [
        "banana(1,2)"
      ],
      "execution_count": 9,
      "outputs": [
        {
          "output_type": "execute_result",
          "data": {
            "text/plain": [
              "3"
            ]
          },
          "metadata": {},
          "execution_count": 9
        }
      ]
    },
    {
      "cell_type": "code",
      "metadata": {
        "colab": {
          "base_uri": "https://localhost:8080/",
          "height": 35
        },
        "id": "xUxZR5dJ8QB2",
        "outputId": "53483d1e-9ad0-4919-cdbb-b8d644f389c4"
      },
      "source": [
        "banana(\"hello\",\"world\")"
      ],
      "execution_count": 10,
      "outputs": [
        {
          "output_type": "execute_result",
          "data": {
            "application/vnd.google.colaboratory.intrinsic+json": {
              "type": "string"
            },
            "text/plain": [
              "'helloworld'"
            ]
          },
          "metadata": {},
          "execution_count": 10
        }
      ]
    },
    {
      "cell_type": "code",
      "metadata": {
        "colab": {
          "base_uri": "https://localhost:8080/",
          "height": 263
        },
        "id": "MzGwlIMC8SEu",
        "outputId": "2bdd76a8-577e-4750-95fd-973072aaf2a3"
      },
      "source": [
        "banana(\"hello\", 3)\n",
        "# "
      ],
      "execution_count": 11,
      "outputs": [
        {
          "output_type": "error",
          "ename": "TypeError",
          "evalue": "ignored",
          "traceback": [
            "\u001b[0;31m---------------------------------------------------------------------------\u001b[0m",
            "\u001b[0;31mTypeError\u001b[0m                                 Traceback (most recent call last)",
            "\u001b[0;32m<ipython-input-11-f2fefabe06d9>\u001b[0m in \u001b[0;36m<module>\u001b[0;34m()\u001b[0m\n\u001b[0;32m----> 1\u001b[0;31m \u001b[0mbanana\u001b[0m\u001b[0;34m(\u001b[0m\u001b[0;34m\"hello\"\u001b[0m\u001b[0;34m,\u001b[0m \u001b[0;36m3\u001b[0m\u001b[0;34m)\u001b[0m\u001b[0;34m\u001b[0m\u001b[0;34m\u001b[0m\u001b[0m\n\u001b[0m",
            "\u001b[0;32m<ipython-input-8-46c186efaf6f>\u001b[0m in \u001b[0;36mbanana\u001b[0;34m(val1, val2)\u001b[0m\n\u001b[1;32m      1\u001b[0m \u001b[0;32mdef\u001b[0m \u001b[0mbanana\u001b[0m\u001b[0;34m(\u001b[0m\u001b[0mval1\u001b[0m\u001b[0;34m,\u001b[0m\u001b[0mval2\u001b[0m\u001b[0;34m)\u001b[0m\u001b[0;34m:\u001b[0m\u001b[0;34m\u001b[0m\u001b[0;34m\u001b[0m\u001b[0m\n\u001b[0;32m----> 2\u001b[0;31m   \u001b[0;32mreturn\u001b[0m \u001b[0mval1\u001b[0m\u001b[0;34m+\u001b[0m\u001b[0mval2\u001b[0m\u001b[0;34m\u001b[0m\u001b[0;34m\u001b[0m\u001b[0m\n\u001b[0m",
            "\u001b[0;31mTypeError\u001b[0m: can only concatenate str (not \"int\") to str"
          ]
        }
      ]
    },
    {
      "cell_type": "code",
      "metadata": {
        "id": "luDVLUwr8VEC"
      },
      "source": [
        "fl = open('blah.txt', 'wt') # r/w/a , text mode or binary mode\n",
        "fl.write(banana(\"hello\",\"world\"))\n",
        "fl.close()"
      ],
      "execution_count": 12,
      "outputs": []
    },
    {
      "cell_type": "code",
      "metadata": {
        "colab": {
          "base_uri": "https://localhost:8080/"
        },
        "id": "97m5mvpW8wUc",
        "outputId": "d6a07663-0f38-46fc-d068-d3c9f2ca13bd"
      },
      "source": [
        "# batch and stream\n",
        "\n",
        "# batch-> data -> dw dataset, dataframe \n",
        "!wget https://raw.githubusercontent.com/a-forty-two/CGI-DPplusPy/main/breastcancer_data.csv"
      ],
      "execution_count": 13,
      "outputs": [
        {
          "output_type": "stream",
          "name": "stdout",
          "text": [
            "--2021-09-06 09:15:35--  https://raw.githubusercontent.com/a-forty-two/CGI-DPplusPy/main/breastcancer_data.csv\n",
            "Resolving raw.githubusercontent.com (raw.githubusercontent.com)... 185.199.108.133, 185.199.109.133, 185.199.110.133, ...\n",
            "Connecting to raw.githubusercontent.com (raw.githubusercontent.com)|185.199.108.133|:443... connected.\n",
            "HTTP request sent, awaiting response... 200 OK\n",
            "Length: 80005 (78K) [text/plain]\n",
            "Saving to: ‘breastcancer_data.csv’\n",
            "\n",
            "\rbreastcancer_data.c   0%[                    ]       0  --.-KB/s               \rbreastcancer_data.c 100%[===================>]  78.13K  --.-KB/s    in 0.006s  \n",
            "\n",
            "2021-09-06 09:15:35 (13.6 MB/s) - ‘breastcancer_data.csv’ saved [80005/80005]\n",
            "\n"
          ]
        }
      ]
    },
    {
      "cell_type": "code",
      "metadata": {
        "colab": {
          "base_uri": "https://localhost:8080/"
        },
        "id": "SnRRMTuLZDXa",
        "outputId": "24df9462-3350-4630-d176-041bf4d108ac"
      },
      "source": [
        "!ls"
      ],
      "execution_count": 14,
      "outputs": [
        {
          "output_type": "stream",
          "name": "stdout",
          "text": [
            "blah.txt  breastcancer_data.csv  sample_data\n"
          ]
        }
      ]
    },
    {
      "cell_type": "code",
      "metadata": {
        "id": "CbGB0XO4ZG2D"
      },
      "source": [
        "#PANDAS-> Panel Dataframes\n",
        "# Extract, Slice and Dice, and manipulate TABULAR data\n",
        "# ROWS and COLUMNS\n",
        "# Tx-> Statistics, SQL Joins, Math"
      ],
      "execution_count": 15,
      "outputs": []
    },
    {
      "cell_type": "code",
      "metadata": {
        "id": "adFWH-NqZQeA"
      },
      "source": [
        "import pandas\n",
        "data = pandas.read_csv('breastcancer_data.csv', header=0)\n"
      ],
      "execution_count": 17,
      "outputs": []
    },
    {
      "cell_type": "code",
      "metadata": {
        "colab": {
          "base_uri": "https://localhost:8080/",
          "height": 437
        },
        "id": "mG8GmFWaZj1R",
        "outputId": "4918eaf9-725c-413b-a280-e92e3da76002"
      },
      "source": [
        "data # POINTER-> REFERENCE "
      ],
      "execution_count": 18,
      "outputs": [
        {
          "output_type": "execute_result",
          "data": {
            "text/html": [
              "<div>\n",
              "<style scoped>\n",
              "    .dataframe tbody tr th:only-of-type {\n",
              "        vertical-align: middle;\n",
              "    }\n",
              "\n",
              "    .dataframe tbody tr th {\n",
              "        vertical-align: top;\n",
              "    }\n",
              "\n",
              "    .dataframe thead th {\n",
              "        text-align: right;\n",
              "    }\n",
              "</style>\n",
              "<table border=\"1\" class=\"dataframe\">\n",
              "  <thead>\n",
              "    <tr style=\"text-align: right;\">\n",
              "      <th></th>\n",
              "      <th>id</th>\n",
              "      <th>diagnosis</th>\n",
              "      <th>radius_mean</th>\n",
              "      <th>texture_mean</th>\n",
              "      <th>perimeter_mean</th>\n",
              "      <th>area_mean</th>\n",
              "      <th>smoothness_mean</th>\n",
              "      <th>compactness_mean</th>\n",
              "      <th>concavity_mean</th>\n",
              "      <th>symmetry_mean</th>\n",
              "      <th>fractal_dimension_mean</th>\n",
              "    </tr>\n",
              "  </thead>\n",
              "  <tbody>\n",
              "    <tr>\n",
              "      <th>0</th>\n",
              "      <td>842302</td>\n",
              "      <td>M</td>\n",
              "      <td>17.99</td>\n",
              "      <td>10.38</td>\n",
              "      <td>122.80</td>\n",
              "      <td>1001.0</td>\n",
              "      <td>0.11840</td>\n",
              "      <td>0.27760</td>\n",
              "      <td>0.30010</td>\n",
              "      <td>0.2419</td>\n",
              "      <td>0.07871</td>\n",
              "    </tr>\n",
              "    <tr>\n",
              "      <th>1</th>\n",
              "      <td>842517</td>\n",
              "      <td>M</td>\n",
              "      <td>20.57</td>\n",
              "      <td>17.77</td>\n",
              "      <td>132.90</td>\n",
              "      <td>1326.0</td>\n",
              "      <td>0.08474</td>\n",
              "      <td>0.07864</td>\n",
              "      <td>0.08690</td>\n",
              "      <td>0.1812</td>\n",
              "      <td>0.05667</td>\n",
              "    </tr>\n",
              "    <tr>\n",
              "      <th>2</th>\n",
              "      <td>84300903</td>\n",
              "      <td>M</td>\n",
              "      <td>19.69</td>\n",
              "      <td>21.25</td>\n",
              "      <td>130.00</td>\n",
              "      <td>1203.0</td>\n",
              "      <td>0.10960</td>\n",
              "      <td>0.15990</td>\n",
              "      <td>0.19740</td>\n",
              "      <td>0.2069</td>\n",
              "      <td>0.05999</td>\n",
              "    </tr>\n",
              "    <tr>\n",
              "      <th>3</th>\n",
              "      <td>84348301</td>\n",
              "      <td>M</td>\n",
              "      <td>11.42</td>\n",
              "      <td>20.38</td>\n",
              "      <td>77.58</td>\n",
              "      <td>386.1</td>\n",
              "      <td>0.14250</td>\n",
              "      <td>0.28390</td>\n",
              "      <td>0.24140</td>\n",
              "      <td>0.2597</td>\n",
              "      <td>0.09744</td>\n",
              "    </tr>\n",
              "    <tr>\n",
              "      <th>4</th>\n",
              "      <td>84358402</td>\n",
              "      <td>M</td>\n",
              "      <td>20.29</td>\n",
              "      <td>14.34</td>\n",
              "      <td>135.10</td>\n",
              "      <td>1297.0</td>\n",
              "      <td>0.10030</td>\n",
              "      <td>0.13280</td>\n",
              "      <td>0.19800</td>\n",
              "      <td>0.1809</td>\n",
              "      <td>0.05883</td>\n",
              "    </tr>\n",
              "    <tr>\n",
              "      <th>...</th>\n",
              "      <td>...</td>\n",
              "      <td>...</td>\n",
              "      <td>...</td>\n",
              "      <td>...</td>\n",
              "      <td>...</td>\n",
              "      <td>...</td>\n",
              "      <td>...</td>\n",
              "      <td>...</td>\n",
              "      <td>...</td>\n",
              "      <td>...</td>\n",
              "      <td>...</td>\n",
              "    </tr>\n",
              "    <tr>\n",
              "      <th>1133</th>\n",
              "      <td>93316</td>\n",
              "      <td>M</td>\n",
              "      <td>21.56</td>\n",
              "      <td>22.39</td>\n",
              "      <td>142.00</td>\n",
              "      <td>1479.0</td>\n",
              "      <td>0.11100</td>\n",
              "      <td>0.11590</td>\n",
              "      <td>0.24390</td>\n",
              "      <td>0.1726</td>\n",
              "      <td>0.05623</td>\n",
              "    </tr>\n",
              "    <tr>\n",
              "      <th>1134</th>\n",
              "      <td>93317</td>\n",
              "      <td>M</td>\n",
              "      <td>20.13</td>\n",
              "      <td>28.25</td>\n",
              "      <td>131.20</td>\n",
              "      <td>1261.0</td>\n",
              "      <td>0.09780</td>\n",
              "      <td>0.10340</td>\n",
              "      <td>0.14400</td>\n",
              "      <td>0.1752</td>\n",
              "      <td>0.05533</td>\n",
              "    </tr>\n",
              "    <tr>\n",
              "      <th>1135</th>\n",
              "      <td>93318</td>\n",
              "      <td>M</td>\n",
              "      <td>16.60</td>\n",
              "      <td>28.08</td>\n",
              "      <td>108.30</td>\n",
              "      <td>858.1</td>\n",
              "      <td>0.08455</td>\n",
              "      <td>0.10230</td>\n",
              "      <td>0.09251</td>\n",
              "      <td>0.1590</td>\n",
              "      <td>0.05648</td>\n",
              "    </tr>\n",
              "    <tr>\n",
              "      <th>1136</th>\n",
              "      <td>93319</td>\n",
              "      <td>M</td>\n",
              "      <td>20.60</td>\n",
              "      <td>29.33</td>\n",
              "      <td>140.10</td>\n",
              "      <td>1265.0</td>\n",
              "      <td>0.11780</td>\n",
              "      <td>0.27700</td>\n",
              "      <td>0.35140</td>\n",
              "      <td>0.2397</td>\n",
              "      <td>0.07016</td>\n",
              "    </tr>\n",
              "    <tr>\n",
              "      <th>1137</th>\n",
              "      <td>93320</td>\n",
              "      <td>B</td>\n",
              "      <td>7.76</td>\n",
              "      <td>24.54</td>\n",
              "      <td>47.92</td>\n",
              "      <td>181.0</td>\n",
              "      <td>0.05263</td>\n",
              "      <td>0.04362</td>\n",
              "      <td>0.00000</td>\n",
              "      <td>0.1587</td>\n",
              "      <td>0.05884</td>\n",
              "    </tr>\n",
              "  </tbody>\n",
              "</table>\n",
              "<p>1138 rows × 11 columns</p>\n",
              "</div>"
            ],
            "text/plain": [
              "            id diagnosis  ...  symmetry_mean  fractal_dimension_mean\n",
              "0       842302         M  ...         0.2419                 0.07871\n",
              "1       842517         M  ...         0.1812                 0.05667\n",
              "2     84300903         M  ...         0.2069                 0.05999\n",
              "3     84348301         M  ...         0.2597                 0.09744\n",
              "4     84358402         M  ...         0.1809                 0.05883\n",
              "...        ...       ...  ...            ...                     ...\n",
              "1133     93316         M  ...         0.1726                 0.05623\n",
              "1134     93317         M  ...         0.1752                 0.05533\n",
              "1135     93318         M  ...         0.1590                 0.05648\n",
              "1136     93319         M  ...         0.2397                 0.07016\n",
              "1137     93320         B  ...         0.1587                 0.05884\n",
              "\n",
              "[1138 rows x 11 columns]"
            ]
          },
          "metadata": {},
          "execution_count": 18
        }
      ]
    },
    {
      "cell_type": "code",
      "metadata": {
        "colab": {
          "base_uri": "https://localhost:8080/"
        },
        "id": "ABbuyuBcZn2w",
        "outputId": "a00542a6-990d-4295-e3cf-2a7378bcc47f"
      },
      "source": [
        "data['fractal_dimension_mean']"
      ],
      "execution_count": 19,
      "outputs": [
        {
          "output_type": "execute_result",
          "data": {
            "text/plain": [
              "0       0.07871\n",
              "1       0.05667\n",
              "2       0.05999\n",
              "3       0.09744\n",
              "4       0.05883\n",
              "         ...   \n",
              "1133    0.05623\n",
              "1134    0.05533\n",
              "1135    0.05648\n",
              "1136    0.07016\n",
              "1137    0.05884\n",
              "Name: fractal_dimension_mean, Length: 1138, dtype: float64"
            ]
          },
          "metadata": {},
          "execution_count": 19
        }
      ]
    },
    {
      "cell_type": "code",
      "metadata": {
        "id": "JSUSMuJTZwHa"
      },
      "source": [
        "# List\n",
        "ls = [42, 0.111111, 'hello world', '<input type=\"button\">Click here</input>', False]\n"
      ],
      "execution_count": 20,
      "outputs": []
    },
    {
      "cell_type": "code",
      "metadata": {
        "colab": {
          "base_uri": "https://localhost:8080/"
        },
        "id": "W3Fs19JDc7QX",
        "outputId": "ed1bae67-2a1d-482c-81b5-faa31579a4ed"
      },
      "source": [
        "# ORDERED-> once created, ORDER DOES not change\n",
        "ls"
      ],
      "execution_count": 21,
      "outputs": [
        {
          "output_type": "execute_result",
          "data": {
            "text/plain": [
              "[42, 0.111111, 'hello world', '<input type=\"button\">Click here</input>', False]"
            ]
          },
          "metadata": {},
          "execution_count": 21
        }
      ]
    },
    {
      "cell_type": "code",
      "metadata": {
        "colab": {
          "base_uri": "https://localhost:8080/"
        },
        "id": "hlxGFwwVc_Sb",
        "outputId": "1df3bea8-6110-416f-db86-b8192bb20067"
      },
      "source": [
        "#Indexed\n",
        "ls[0]# first element"
      ],
      "execution_count": 22,
      "outputs": [
        {
          "output_type": "execute_result",
          "data": {
            "text/plain": [
              "42"
            ]
          },
          "metadata": {},
          "execution_count": 22
        }
      ]
    },
    {
      "cell_type": "code",
      "metadata": {
        "colab": {
          "base_uri": "https://localhost:8080/"
        },
        "id": "ngLiMX8VdEha",
        "outputId": "3cc3b819-2a66-4c16-e38e-0ee330d1f042"
      },
      "source": [
        "# NEGATIVE INDEXING-> right to left\n",
        "ls[-1] # last element"
      ],
      "execution_count": 23,
      "outputs": [
        {
          "output_type": "execute_result",
          "data": {
            "text/plain": [
              "False"
            ]
          },
          "metadata": {},
          "execution_count": 23
        }
      ]
    },
    {
      "cell_type": "code",
      "metadata": {
        "id": "rofKgTWBdLSl"
      },
      "source": [
        "ls2 = [1, -1, ls]"
      ],
      "execution_count": 24,
      "outputs": []
    },
    {
      "cell_type": "code",
      "metadata": {
        "colab": {
          "base_uri": "https://localhost:8080/"
        },
        "id": "10NNLSN4dUQR",
        "outputId": "d5b96343-bfb4-4d42-92cd-fdaf62df2e84"
      },
      "source": [
        "ls # list concatenation"
      ],
      "execution_count": 27,
      "outputs": [
        {
          "output_type": "execute_result",
          "data": {
            "text/plain": [
              "[42, 0.111111, 'hello world', '<input type=\"button\">Click here</input>', False]"
            ]
          },
          "metadata": {},
          "execution_count": 27
        }
      ]
    },
    {
      "cell_type": "markdown",
      "metadata": {
        "id": "L9EtlaRmdb6O"
      },
      "source": [
        ""
      ]
    },
    {
      "cell_type": "code",
      "metadata": {
        "colab": {
          "base_uri": "https://localhost:8080/"
        },
        "id": "yzOnv2iHdWFX",
        "outputId": "c79a3fa8-9c9a-4050-ff7b-2d75a2646119"
      },
      "source": [
        "ls3 = [1,-1,[ls]]\n",
        "ls3"
      ],
      "execution_count": 28,
      "outputs": [
        {
          "output_type": "execute_result",
          "data": {
            "text/plain": [
              "[1,\n",
              " -1,\n",
              " [[42,\n",
              "   0.111111,\n",
              "   'hello world',\n",
              "   '<input type=\"button\">Click here</input>',\n",
              "   False]]]"
            ]
          },
          "metadata": {},
          "execution_count": 28
        }
      ]
    },
    {
      "cell_type": "code",
      "metadata": {
        "colab": {
          "base_uri": "https://localhost:8080/"
        },
        "id": "XvIU7EDodkC2",
        "outputId": "c6140b44-cac7-4d37-ea20-51dd45b35746"
      },
      "source": [
        "ls3[-1]"
      ],
      "execution_count": 29,
      "outputs": [
        {
          "output_type": "execute_result",
          "data": {
            "text/plain": [
              "[[42,\n",
              "  0.111111,\n",
              "  'hello world',\n",
              "  '<input type=\"button\">Click here</input>',\n",
              "  False]]"
            ]
          },
          "metadata": {},
          "execution_count": 29
        }
      ]
    },
    {
      "cell_type": "code",
      "metadata": {
        "colab": {
          "base_uri": "https://localhost:8080/"
        },
        "id": "2Z2e3N0Sdm8B",
        "outputId": "e349272b-c807-47e2-cdae-9b792eda3a55"
      },
      "source": [
        "potato = [ 1, 2, 2, 1, 'banana', 99, False, 3.14, 'buffalo']\n",
        "# List is ORDERED, INDEXED\n",
        "set1 = set(potato)\n",
        "set1\n",
        "# UNORDERED"
      ],
      "execution_count": 34,
      "outputs": [
        {
          "output_type": "execute_result",
          "data": {
            "text/plain": [
              "{1, 2, 3.14, 99, False, 'banana', 'buffalo'}"
            ]
          },
          "metadata": {},
          "execution_count": 34
        }
      ]
    },
    {
      "cell_type": "code",
      "metadata": {
        "colab": {
          "base_uri": "https://localhost:8080/",
          "height": 179
        },
        "id": "Yy3NpjwveL72",
        "outputId": "d8932db1-f7b0-4bc7-b376-7faecea41e66"
      },
      "source": [
        "# INDEXING-> undefined \n",
        "set1[2]"
      ],
      "execution_count": 31,
      "outputs": [
        {
          "output_type": "error",
          "ename": "TypeError",
          "evalue": "ignored",
          "traceback": [
            "\u001b[0;31m---------------------------------------------------------------------------\u001b[0m",
            "\u001b[0;31mTypeError\u001b[0m                                 Traceback (most recent call last)",
            "\u001b[0;32m<ipython-input-31-2d2113d7d672>\u001b[0m in \u001b[0;36m<module>\u001b[0;34m()\u001b[0m\n\u001b[1;32m      1\u001b[0m \u001b[0;31m# INDEXING-> undefined\u001b[0m\u001b[0;34m\u001b[0m\u001b[0;34m\u001b[0m\u001b[0;34m\u001b[0m\u001b[0m\n\u001b[0;32m----> 2\u001b[0;31m \u001b[0mset1\u001b[0m\u001b[0;34m[\u001b[0m\u001b[0;36m2\u001b[0m\u001b[0;34m]\u001b[0m\u001b[0;34m\u001b[0m\u001b[0;34m\u001b[0m\u001b[0m\n\u001b[0m",
            "\u001b[0;31mTypeError\u001b[0m: 'set' object is not subscriptable"
          ]
        }
      ]
    },
    {
      "cell_type": "code",
      "metadata": {
        "colab": {
          "base_uri": "https://localhost:8080/",
          "height": 162
        },
        "id": "sxnkGIBieUFx",
        "outputId": "b61822a2-add6-4355-b4f5-ac2873f34d78"
      },
      "source": [
        "set2 = {ls} # an ordered, indexed collection CANNOT become a part of UNORDERED,\n",
        "# unindexed collection!!!!"
      ],
      "execution_count": 35,
      "outputs": [
        {
          "output_type": "error",
          "ename": "TypeError",
          "evalue": "ignored",
          "traceback": [
            "\u001b[0;31m---------------------------------------------------------------------------\u001b[0m",
            "\u001b[0;31mTypeError\u001b[0m                                 Traceback (most recent call last)",
            "\u001b[0;32m<ipython-input-35-c4cc7447ddf1>\u001b[0m in \u001b[0;36m<module>\u001b[0;34m()\u001b[0m\n\u001b[0;32m----> 1\u001b[0;31m \u001b[0mset2\u001b[0m \u001b[0;34m=\u001b[0m \u001b[0;34m{\u001b[0m\u001b[0mls\u001b[0m\u001b[0;34m}\u001b[0m\u001b[0;34m\u001b[0m\u001b[0;34m\u001b[0m\u001b[0m\n\u001b[0m",
            "\u001b[0;31mTypeError\u001b[0m: unhashable type: 'list'"
          ]
        }
      ]
    },
    {
      "cell_type": "code",
      "metadata": {
        "colab": {
          "base_uri": "https://localhost:8080/",
          "height": 162
        },
        "id": "xMBjzkP9e_XW",
        "outputId": "0fc816b4-46de-44c3-bd00-26fa584f4d41"
      },
      "source": [
        "set2 = {set1, 3}"
      ],
      "execution_count": 36,
      "outputs": [
        {
          "output_type": "error",
          "ename": "TypeError",
          "evalue": "ignored",
          "traceback": [
            "\u001b[0;31m---------------------------------------------------------------------------\u001b[0m",
            "\u001b[0;31mTypeError\u001b[0m                                 Traceback (most recent call last)",
            "\u001b[0;32m<ipython-input-36-682dba7a7a3b>\u001b[0m in \u001b[0;36m<module>\u001b[0;34m()\u001b[0m\n\u001b[0;32m----> 1\u001b[0;31m \u001b[0mset2\u001b[0m \u001b[0;34m=\u001b[0m \u001b[0;34m{\u001b[0m\u001b[0mset1\u001b[0m\u001b[0;34m,\u001b[0m \u001b[0;36m3\u001b[0m\u001b[0;34m}\u001b[0m\u001b[0;34m\u001b[0m\u001b[0;34m\u001b[0m\u001b[0m\n\u001b[0m",
            "\u001b[0;31mTypeError\u001b[0m: unhashable type: 'set'"
          ]
        }
      ]
    },
    {
      "cell_type": "code",
      "metadata": {
        "id": "LBg3mEkyfOeX"
      },
      "source": [
        "# UNION and INTERSECTION, SET add, subtract-> only ops\n",
        "# SQL JOIN "
      ],
      "execution_count": 37,
      "outputs": []
    },
    {
      "cell_type": "code",
      "metadata": {
        "id": "9RTtvpRYiQXb"
      },
      "source": [
        "tup = (1,2,3) # READONLY data-> once created, cannot be modified!!!"
      ],
      "execution_count": 38,
      "outputs": []
    },
    {
      "cell_type": "code",
      "metadata": {
        "colab": {
          "base_uri": "https://localhost:8080/"
        },
        "id": "kHzAf70BiXxN",
        "outputId": "1f8800b5-ed13-49ff-d61d-78b59fc4b1ad"
      },
      "source": [
        "print(ls)\n",
        "del ls[-1]\n",
        "print(ls)"
      ],
      "execution_count": 39,
      "outputs": [
        {
          "output_type": "stream",
          "name": "stdout",
          "text": [
            "[42, 0.111111, 'hello world', '<input type=\"button\">Click here</input>', False]\n",
            "[42, 0.111111, 'hello world', '<input type=\"button\">Click here</input>']\n"
          ]
        }
      ]
    },
    {
      "cell_type": "code",
      "metadata": {
        "colab": {
          "base_uri": "https://localhost:8080/",
          "height": 162
        },
        "id": "W98VjApyiUJB",
        "outputId": "817e97e3-081e-476b-bc60-9334dd59aa0d"
      },
      "source": [
        "del tup[1]"
      ],
      "execution_count": 40,
      "outputs": [
        {
          "output_type": "error",
          "ename": "TypeError",
          "evalue": "ignored",
          "traceback": [
            "\u001b[0;31m---------------------------------------------------------------------------\u001b[0m",
            "\u001b[0;31mTypeError\u001b[0m                                 Traceback (most recent call last)",
            "\u001b[0;32m<ipython-input-40-e5558afa55a9>\u001b[0m in \u001b[0;36m<module>\u001b[0;34m()\u001b[0m\n\u001b[0;32m----> 1\u001b[0;31m \u001b[0;32mdel\u001b[0m \u001b[0mtup\u001b[0m\u001b[0;34m[\u001b[0m\u001b[0;36m1\u001b[0m\u001b[0;34m]\u001b[0m\u001b[0;34m\u001b[0m\u001b[0;34m\u001b[0m\u001b[0m\n\u001b[0m",
            "\u001b[0;31mTypeError\u001b[0m: 'tuple' object doesn't support item deletion"
          ]
        }
      ]
    },
    {
      "cell_type": "code",
      "metadata": {
        "colab": {
          "base_uri": "https://localhost:8080/",
          "height": 162
        },
        "id": "XVNpoXdUicvT",
        "outputId": "25daa47a-d910-42c3-ad08-490e113bf1e6"
      },
      "source": [
        "tup[0] = 42"
      ],
      "execution_count": 41,
      "outputs": [
        {
          "output_type": "error",
          "ename": "TypeError",
          "evalue": "ignored",
          "traceback": [
            "\u001b[0;31m---------------------------------------------------------------------------\u001b[0m",
            "\u001b[0;31mTypeError\u001b[0m                                 Traceback (most recent call last)",
            "\u001b[0;32m<ipython-input-41-9d4bc0a51137>\u001b[0m in \u001b[0;36m<module>\u001b[0;34m()\u001b[0m\n\u001b[0;32m----> 1\u001b[0;31m \u001b[0mtup\u001b[0m\u001b[0;34m[\u001b[0m\u001b[0;36m0\u001b[0m\u001b[0;34m]\u001b[0m \u001b[0;34m=\u001b[0m \u001b[0;36m42\u001b[0m\u001b[0;34m\u001b[0m\u001b[0;34m\u001b[0m\u001b[0m\n\u001b[0m",
            "\u001b[0;31mTypeError\u001b[0m: 'tuple' object does not support item assignment"
          ]
        }
      ]
    },
    {
      "cell_type": "code",
      "metadata": {
        "id": "h8ynw0Uuif5F"
      },
      "source": [
        "# Dictionary-> Key,value pairs!!!! \n",
        "# SETS-> combinations of KEY cannot repeat\n",
        "# ORDERED-> NO!!!\n",
        "# INDEXED-> YES! Indexes are KEY, not [0...1]\n"
      ],
      "execution_count": 42,
      "outputs": []
    },
    {
      "cell_type": "code",
      "metadata": {
        "colab": {
          "base_uri": "https://localhost:8080/",
          "height": 35
        },
        "id": "sV4iF1oKi9he",
        "outputId": "7736b80b-f6f9-468f-c777-f2dd44552286"
      },
      "source": [
        "dct = {0:\"hello\", 4.12:\"World\", False:True, 'pikachu':'otter'}\n",
        "# key:value\n",
        "dct[4.12]#INDEXED!"
      ],
      "execution_count": 43,
      "outputs": [
        {
          "output_type": "execute_result",
          "data": {
            "application/vnd.google.colaboratory.intrinsic+json": {
              "type": "string"
            },
            "text/plain": [
              "'World'"
            ]
          },
          "metadata": {},
          "execution_count": 43
        }
      ]
    },
    {
      "cell_type": "code",
      "metadata": {
        "colab": {
          "base_uri": "https://localhost:8080/",
          "height": 35
        },
        "id": "eO3jxVo6jHh3",
        "outputId": "4265fcda-7913-481b-9b08-0a6076fac1e8"
      },
      "source": [
        "dct[\"pikachu\"] #INDEXED!"
      ],
      "execution_count": 49,
      "outputs": [
        {
          "output_type": "execute_result",
          "data": {
            "application/vnd.google.colaboratory.intrinsic+json": {
              "type": "string"
            },
            "text/plain": [
              "'otter'"
            ]
          },
          "metadata": {},
          "execution_count": 49
        }
      ]
    },
    {
      "cell_type": "code",
      "metadata": {
        "colab": {
          "base_uri": "https://localhost:8080/",
          "height": 162
        },
        "id": "oB7nKyGOjJgH",
        "outputId": "4ef0f1ab-d4bf-43fd-ec6a-2869989261f5"
      },
      "source": [
        "dct[-1]"
      ],
      "execution_count": 48,
      "outputs": [
        {
          "output_type": "error",
          "ename": "KeyError",
          "evalue": "ignored",
          "traceback": [
            "\u001b[0;31m---------------------------------------------------------------------------\u001b[0m",
            "\u001b[0;31mKeyError\u001b[0m                                  Traceback (most recent call last)",
            "\u001b[0;32m<ipython-input-48-21d02a676b0e>\u001b[0m in \u001b[0;36m<module>\u001b[0;34m()\u001b[0m\n\u001b[0;32m----> 1\u001b[0;31m \u001b[0mdct\u001b[0m\u001b[0;34m[\u001b[0m\u001b[0;34m-\u001b[0m\u001b[0;36m1\u001b[0m\u001b[0;34m]\u001b[0m\u001b[0;34m\u001b[0m\u001b[0;34m\u001b[0m\u001b[0m\n\u001b[0m",
            "\u001b[0;31mKeyError\u001b[0m: -1"
          ]
        }
      ]
    },
    {
      "cell_type": "code",
      "metadata": {
        "id": "-jrJiaScjOe5"
      },
      "source": [
        "# functions, classes\n",
        "# def <function_name> (parameters):\n",
        "#   command1\n",
        "#<-> indentation space from left-> is important\n",
        "# { } -> scope, in python the space from left defines the scope!\n",
        "# PREFERENCE-> TAB over SPACE "
      ],
      "execution_count": 50,
      "outputs": []
    },
    {
      "cell_type": "code",
      "metadata": {
        "colab": {
          "base_uri": "https://localhost:8080/"
        },
        "id": "WxSVHE66l8g3",
        "outputId": "739449bc-51c7-446f-fcdb-eda5feb68017"
      },
      "source": [
        "# Functions can return multiple values!\n",
        "def divide(a,b):\n",
        "  q = int(a/b) # TYPE CASTE\n",
        "  r = a%b\n",
        "  return q,r # returning 2 independent units\n",
        "\n",
        "a,b = divide(5,2)\n",
        "print(a,b)"
      ],
      "execution_count": 57,
      "outputs": [
        {
          "output_type": "stream",
          "name": "stdout",
          "text": [
            "2 1\n"
          ]
        }
      ]
    },
    {
      "cell_type": "markdown",
      "metadata": {
        "id": "VL_E6xzwppAm"
      },
      "source": [
        ""
      ]
    },
    {
      "cell_type": "code",
      "metadata": {
        "colab": {
          "base_uri": "https://localhost:8080/"
        },
        "id": "QkT1UQwomMW4",
        "outputId": "3e06384f-8037-4d25-fe8a-914f007ed351"
      },
      "source": [
        "# Functions can return multiple values!\n",
        "def divide(a,b):\n",
        "  q = int(a/b) # TYPE CASTE\n",
        "  r = a%b\n",
        "  return (q,r) # returning 1 independent unit-> tuple\n",
        "\n",
        "a = divide(5,2)\n",
        "print(a)\n",
        "print(a[0])"
      ],
      "execution_count": 60,
      "outputs": [
        {
          "output_type": "stream",
          "name": "stdout",
          "text": [
            "(2, 1)\n",
            "2\n"
          ]
        }
      ]
    },
    {
      "cell_type": "code",
      "metadata": {
        "colab": {
          "base_uri": "https://localhost:8080/"
        },
        "id": "uaCrOBHqmeaj",
        "outputId": "cb2ff5bc-3930-453f-8ff8-5e99c9f4fd9c"
      },
      "source": [
        "# lambda function -> anonymous functions \n",
        "# 1 line of exection NOT more!!!\n",
        "# In-Place-> no jump in memory for a separate function call!\n",
        "# EXECUTION is faster! -> only allocate finite memory, hence ONLY 1 line of execution is allowed!\n",
        "\n",
        "# K = C+ 273\n",
        "# variable = lambda <input>: what happens with input!\n",
        "convert_to_kelvin = lambda x: x+273\n",
        "convert_to_kelvin(100)"
      ],
      "execution_count": 61,
      "outputs": [
        {
          "output_type": "execute_result",
          "data": {
            "text/plain": [
              "373"
            ]
          },
          "metadata": {},
          "execution_count": 61
        }
      ]
    },
    {
      "cell_type": "code",
      "metadata": {
        "colab": {
          "base_uri": "https://localhost:8080/"
        },
        "id": "ifY65VLVoa8G",
        "outputId": "eddb9e6e-2999-49df-b100-c515eefd5114"
      },
      "source": [
        "# y = mx + c\n",
        "y = lambda m,x,c: m*x + c\n",
        "y(1,2,0)"
      ],
      "execution_count": 62,
      "outputs": [
        {
          "output_type": "execute_result",
          "data": {
            "text/plain": [
              "2"
            ]
          },
          "metadata": {},
          "execution_count": 62
        }
      ]
    },
    {
      "cell_type": "code",
      "metadata": {
        "colab": {
          "base_uri": "https://localhost:8080/"
        },
        "id": "l3FNtdXkokQK",
        "outputId": "7a1b0369-5dc3-4f26-e6b9-078a5968cb90"
      },
      "source": [
        "# Loops-> do_while, while, for, foreach \n",
        "\n",
        "# for var in list-> var will iterate through the provided list!\n",
        "for i in [1,2,3,4,5,6]:\n",
        "  print(i)"
      ],
      "execution_count": 63,
      "outputs": [
        {
          "output_type": "stream",
          "name": "stdout",
          "text": [
            "1\n",
            "2\n",
            "3\n",
            "4\n",
            "5\n",
            "6\n"
          ]
        }
      ]
    },
    {
      "cell_type": "code",
      "metadata": {
        "colab": {
          "base_uri": "https://localhost:8080/"
        },
        "id": "ybkaIFNjqI1f",
        "outputId": "5f6d0a34-8063-414e-b930-f8162c8bb86f"
      },
      "source": [
        "# FOR ITERATES OVER A LIST ONLY!!!!\n",
        "for i in ls:\n",
        "  print(i)"
      ],
      "execution_count": 64,
      "outputs": [
        {
          "output_type": "stream",
          "name": "stdout",
          "text": [
            "42\n",
            "0.111111\n",
            "hello world\n",
            "<input type=\"button\">Click here</input>\n"
          ]
        }
      ]
    },
    {
      "cell_type": "code",
      "metadata": {
        "colab": {
          "base_uri": "https://localhost:8080/"
        },
        "id": "FZnnwF92qQSB",
        "outputId": "6c61b384-dc5a-4e29-ad52-670c5a2f5a90"
      },
      "source": [
        "counter = len(ls) -1\n",
        "while(counter>=0):\n",
        "  print(ls[counter])\n",
        "  counter = counter - 1"
      ],
      "execution_count": 67,
      "outputs": [
        {
          "output_type": "stream",
          "name": "stdout",
          "text": [
            "<input type=\"button\">Click here</input>\n",
            "hello world\n",
            "0.111111\n",
            "42\n"
          ]
        }
      ]
    },
    {
      "cell_type": "code",
      "metadata": {
        "colab": {
          "base_uri": "https://localhost:8080/"
        },
        "id": "jq8Jj-_8qY_6",
        "outputId": "86f13dc8-f050-4803-cec5-dd5655465fa7"
      },
      "source": [
        "# LIST COMPREHENSIONS\n",
        "# LOGIC that can be provided to GENERATE a list!!!!\n",
        "# output = [(modification on value)  a loop to iterate a value    ]\n",
        "randomvalues = [ str(i)+'bye' for i in ls]\n",
        "randomvalues"
      ],
      "execution_count": 72,
      "outputs": [
        {
          "output_type": "execute_result",
          "data": {
            "text/plain": [
              "['42bye',\n",
              " '0.111111bye',\n",
              " 'hello worldbye',\n",
              " '<input type=\"button\">Click here</input>bye']"
            ]
          },
          "metadata": {},
          "execution_count": 72
        }
      ]
    },
    {
      "cell_type": "code",
      "metadata": {
        "colab": {
          "base_uri": "https://localhost:8080/"
        },
        "id": "9q5i2UgurEEx",
        "outputId": "435f159d-86fa-4ddb-e46e-c3e456ab9528"
      },
      "source": [
        "# squares of all numbers between 1 to 10\n",
        "base = [ i for i in range(10)]\n",
        "base"
      ],
      "execution_count": 73,
      "outputs": [
        {
          "output_type": "execute_result",
          "data": {
            "text/plain": [
              "[0, 1, 2, 3, 4, 5, 6, 7, 8, 9]"
            ]
          },
          "metadata": {},
          "execution_count": 73
        }
      ]
    },
    {
      "cell_type": "code",
      "metadata": {
        "colab": {
          "base_uri": "https://localhost:8080/"
        },
        "id": "VMOesZWZrhy9",
        "outputId": "e6f0bc9f-97ef-4f4c-dd8c-87b7384144d2"
      },
      "source": [
        "squares = [ i*i for i in base]\n",
        "squares"
      ],
      "execution_count": 74,
      "outputs": [
        {
          "output_type": "execute_result",
          "data": {
            "text/plain": [
              "[0, 1, 4, 9, 16, 25, 36, 49, 64, 81]"
            ]
          },
          "metadata": {},
          "execution_count": 74
        }
      ]
    },
    {
      "cell_type": "code",
      "metadata": {
        "id": "hz3e8OjUrqDb"
      },
      "source": [
        "# combining regular lambdas with functions \n",
        "def mathpower(y):\n",
        "  return lambda x: x**y #**->power, ^-> xor\n",
        "\n",
        "squares = mathpower(2) # lambda x,2: x**2\n",
        "cube = mathpower(3) # lambda x,3: x**3\n",
        "# mathematical-> Finance, insurance\n",
        "# ML-> feature engineering\n",
        "# ETL-> collect-> modify it in many ways, and load somewhere else\n",
        "\n",
        "# Delta-> Bronze (Dirty data), Silver (cleaned featured), Gold (ready for ML or DA)\n",
        "# raw data-> in bronze\n",
        "# Cell Analogy-> Radiography-> radius of a cell, area, perimeter, pi*r2, pi*2*r \n",
        "# FUNCTIONS-> memory jump-> Preference is for lambdas-> 1 expression-> in memory, in place \n",
        "# Derived Columns (formulae based)\n",
        "# Generate Values!"
      ],
      "execution_count": 77,
      "outputs": []
    },
    {
      "cell_type": "code",
      "metadata": {
        "colab": {
          "base_uri": "https://localhost:8080/"
        },
        "id": "kYLiQ69CxvHw",
        "outputId": "5e691574-7915-4552-db4c-a6a37f8ec17d"
      },
      "source": [
        "squares(30)"
      ],
      "execution_count": 78,
      "outputs": [
        {
          "output_type": "execute_result",
          "data": {
            "text/plain": [
              "900"
            ]
          },
          "metadata": {},
          "execution_count": 78
        }
      ]
    },
    {
      "cell_type": "code",
      "metadata": {
        "colab": {
          "base_uri": "https://localhost:8080/"
        },
        "id": "i88fwIESxwy3",
        "outputId": "c6a8e6d7-7ce0-42e1-eecb-25bcc72fc413"
      },
      "source": [
        "cube(9)"
      ],
      "execution_count": 80,
      "outputs": [
        {
          "output_type": "execute_result",
          "data": {
            "text/plain": [
              "729"
            ]
          },
          "metadata": {},
          "execution_count": 80
        }
      ]
    },
    {
      "cell_type": "code",
      "metadata": {
        "id": "nYHPv8ibyBoX"
      },
      "source": [
        "# classes\n",
        "# structure,\n",
        "# Series and Propagation-> AS, HP, GS, Fibonacci, Taylor, Fourier Transformations, FFT\n",
        "# FFT-> noise cancellation \n",
        "# fibanacci-> bee population, storms, hurricanes, tornado,\n",
        "# geological-> ritcher scale \n",
        "# Libraries-> most of our work is automated!\n",
        "# NUMPY-> numbers\n",
        "# SCIPY-> scientic\n",
        "# Pandas"
      ],
      "execution_count": 81,
      "outputs": []
    },
    {
      "cell_type": "code",
      "metadata": {
        "id": "-oJiliJR0V0y"
      },
      "source": [
        "#class <classname>:\n",
        "#   def <function_name>(reference_to_itself): # this pointer/object\n",
        "#         //statements\n",
        "#   def <function_name2>(reference_to_itself,otherargs1,otherargs2)\n",
        "#         //statements "
      ],
      "execution_count": 82,
      "outputs": []
    },
    {
      "cell_type": "code",
      "metadata": {
        "id": "RQmbBa5w0tt2"
      },
      "source": [
        "class myclass:\n",
        "  def blahblah(): #this function will NOT be a part of my classes\n",
        "    return 'bye bye'\n",
        "  def blah2(this): # this function will be a part of my class\n",
        "    return 'yoo hoo'\n"
      ],
      "execution_count": 83,
      "outputs": []
    },
    {
      "cell_type": "code",
      "metadata": {
        "colab": {
          "base_uri": "https://localhost:8080/",
          "height": 213
        },
        "id": "ReQdX4Be0830",
        "outputId": "1bc580a0-5b53-47f0-ddc8-72904cca6ed7"
      },
      "source": [
        "# OBJECT of a class\n",
        "obj = myclass() # new objects \n",
        "print(obj.blah2()) # this should work\n",
        "print(obj.blahblah()) # this should be an error "
      ],
      "execution_count": 85,
      "outputs": [
        {
          "output_type": "stream",
          "name": "stdout",
          "text": [
            "yoo hoo\n"
          ]
        },
        {
          "output_type": "error",
          "ename": "TypeError",
          "evalue": "ignored",
          "traceback": [
            "\u001b[0;31m---------------------------------------------------------------------------\u001b[0m",
            "\u001b[0;31mTypeError\u001b[0m                                 Traceback (most recent call last)",
            "\u001b[0;32m<ipython-input-85-ddf256bd1a50>\u001b[0m in \u001b[0;36m<module>\u001b[0;34m()\u001b[0m\n\u001b[1;32m      2\u001b[0m \u001b[0mobj\u001b[0m \u001b[0;34m=\u001b[0m \u001b[0mmyclass\u001b[0m\u001b[0;34m(\u001b[0m\u001b[0;34m)\u001b[0m \u001b[0;31m# new objects\u001b[0m\u001b[0;34m\u001b[0m\u001b[0;34m\u001b[0m\u001b[0m\n\u001b[1;32m      3\u001b[0m \u001b[0mprint\u001b[0m\u001b[0;34m(\u001b[0m\u001b[0mobj\u001b[0m\u001b[0;34m.\u001b[0m\u001b[0mblah2\u001b[0m\u001b[0;34m(\u001b[0m\u001b[0;34m)\u001b[0m\u001b[0;34m)\u001b[0m \u001b[0;31m# this should work\u001b[0m\u001b[0;34m\u001b[0m\u001b[0;34m\u001b[0m\u001b[0m\n\u001b[0;32m----> 4\u001b[0;31m \u001b[0mprint\u001b[0m\u001b[0;34m(\u001b[0m\u001b[0mobj\u001b[0m\u001b[0;34m.\u001b[0m\u001b[0mblahblah\u001b[0m\u001b[0;34m(\u001b[0m\u001b[0;34m)\u001b[0m\u001b[0;34m)\u001b[0m \u001b[0;31m# this should be an error\u001b[0m\u001b[0;34m\u001b[0m\u001b[0;34m\u001b[0m\u001b[0m\n\u001b[0m",
            "\u001b[0;31mTypeError\u001b[0m: blahblah() takes 0 positional arguments but 1 was given"
          ]
        }
      ]
    },
    {
      "cell_type": "code",
      "metadata": {
        "id": "yi7o8DB71Mug"
      },
      "source": [
        "# Constructors-> intialize the C++ constructor actually represeting the constructor\n",
        "# YOU WILL NEVER GET ACCESS TO THIS CLASS, or to the MAIN function beyond a reference "
      ],
      "execution_count": 86,
      "outputs": []
    },
    {
      "cell_type": "code",
      "metadata": {
        "id": "wyjE6Tci1hBi"
      },
      "source": [
        "# others-> constructor has same name as the class\n",
        "# python-> __init__ "
      ],
      "execution_count": 87,
      "outputs": []
    },
    {
      "cell_type": "code",
      "metadata": {
        "id": "x4Dtw5pg1m_b"
      },
      "source": [
        "class human:\n",
        "  def __init__(this):\n",
        "    this.name = \"jane doe\"\n",
        "    this.age = 1000\n",
        "    this.currency = 'SGD'\n",
        "    this.hungerStatus = False\n",
        "  def setNewProperties(this, name, age):\n",
        "    this.name = name\n",
        "    this.age = age\n",
        "  def getHumanProperties(this):\n",
        "    return this.name, this.age, this.currency, (\"hungry\" if this.hungerStatus==True else \"Not Hungry\")\n",
        "  "
      ],
      "execution_count": 90,
      "outputs": []
    },
    {
      "cell_type": "code",
      "metadata": {
        "colab": {
          "base_uri": "https://localhost:8080/"
        },
        "id": "LAyOODw52JdM",
        "outputId": "714c9ec0-73b2-4aef-a235-51b4a6851885"
      },
      "source": [
        "pikachu = human()\n",
        "pikachu.getHumanProperties()"
      ],
      "execution_count": 91,
      "outputs": [
        {
          "output_type": "execute_result",
          "data": {
            "text/plain": [
              "('jane doe', 1000, 'SGD', 'Not Hungry')"
            ]
          },
          "metadata": {},
          "execution_count": 91
        }
      ]
    },
    {
      "cell_type": "code",
      "metadata": {
        "colab": {
          "base_uri": "https://localhost:8080/",
          "height": 213
        },
        "id": "C5xWYz_S2N6Z",
        "outputId": "214b0d66-c0ee-4e98-b8c6-8fd5dfca2c27"
      },
      "source": [
        "# NOT-> POLYMORPHISM\n",
        "# DOES NOT \n",
        "class abc:\n",
        "  def mul(this, a,b):\n",
        "    return a*b\n",
        "  def mul(this, a):\n",
        "    return a*a\n",
        "\n",
        "ob = abc()\n",
        "print(ob.mul(3)) # this should work\n",
        "print(ob.mul(3,2)) # this should NOT work! PREVIOUS DEF has been OVERRIDDEN by new def!!1"
      ],
      "execution_count": 92,
      "outputs": [
        {
          "output_type": "stream",
          "name": "stdout",
          "text": [
            "9\n"
          ]
        },
        {
          "output_type": "error",
          "ename": "TypeError",
          "evalue": "ignored",
          "traceback": [
            "\u001b[0;31m---------------------------------------------------------------------------\u001b[0m",
            "\u001b[0;31mTypeError\u001b[0m                                 Traceback (most recent call last)",
            "\u001b[0;32m<ipython-input-92-3418f35879c2>\u001b[0m in \u001b[0;36m<module>\u001b[0;34m()\u001b[0m\n\u001b[1;32m      9\u001b[0m \u001b[0mob\u001b[0m \u001b[0;34m=\u001b[0m \u001b[0mabc\u001b[0m\u001b[0;34m(\u001b[0m\u001b[0;34m)\u001b[0m\u001b[0;34m\u001b[0m\u001b[0;34m\u001b[0m\u001b[0m\n\u001b[1;32m     10\u001b[0m \u001b[0mprint\u001b[0m\u001b[0;34m(\u001b[0m\u001b[0mob\u001b[0m\u001b[0;34m.\u001b[0m\u001b[0mmul\u001b[0m\u001b[0;34m(\u001b[0m\u001b[0;36m3\u001b[0m\u001b[0;34m)\u001b[0m\u001b[0;34m)\u001b[0m \u001b[0;31m# this should work\u001b[0m\u001b[0;34m\u001b[0m\u001b[0;34m\u001b[0m\u001b[0m\n\u001b[0;32m---> 11\u001b[0;31m \u001b[0mprint\u001b[0m\u001b[0;34m(\u001b[0m\u001b[0mob\u001b[0m\u001b[0;34m.\u001b[0m\u001b[0mmul\u001b[0m\u001b[0;34m(\u001b[0m\u001b[0;36m3\u001b[0m\u001b[0;34m,\u001b[0m\u001b[0;36m2\u001b[0m\u001b[0;34m)\u001b[0m\u001b[0;34m)\u001b[0m \u001b[0;31m# this should NOT work! PREVIOUS DEF has been OVERRIDDEN by new def!!1\u001b[0m\u001b[0;34m\u001b[0m\u001b[0;34m\u001b[0m\u001b[0m\n\u001b[0m",
            "\u001b[0;31mTypeError\u001b[0m: mul() takes 2 positional arguments but 3 were given"
          ]
        }
      ]
    },
    {
      "cell_type": "code",
      "metadata": {
        "id": "5yRHmAcw3L_J"
      },
      "source": [
        "#Series and Propagation \n",
        "\n",
        "# Arithmetic series-> Fibonacci series\n",
        "# Special Function-> __iter__, __next__-> first definition, how to propagate"
      ],
      "execution_count": 93,
      "outputs": []
    },
    {
      "cell_type": "code",
      "metadata": {
        "id": "5ib6dkgO4UE6"
      },
      "source": [
        "class ArithmeticProg:\n",
        "  def __iter__(self):\n",
        "    self.base = -1\n",
        "    self.step = 2\n",
        "    return self\n",
        "  def __next__(self):\n",
        "    self.base = self.base + self.step\n",
        "    return self.base \n"
      ],
      "execution_count": 95,
      "outputs": []
    },
    {
      "cell_type": "code",
      "metadata": {
        "id": "OttlRRuK48vb"
      },
      "source": [
        "obj = ArithmeticProg()\n",
        "i = iter(obj)\n",
        "# initialize series"
      ],
      "execution_count": 102,
      "outputs": []
    },
    {
      "cell_type": "code",
      "metadata": {
        "colab": {
          "base_uri": "https://localhost:8080/"
        },
        "id": "9cWydTrd5LBb",
        "outputId": "656082c0-7378-4ffd-b288-8c65026daa03"
      },
      "source": [
        "# next will propagate\n",
        "for j in range(10):\n",
        "  print(next(i))"
      ],
      "execution_count": 103,
      "outputs": [
        {
          "output_type": "stream",
          "name": "stdout",
          "text": [
            "1\n",
            "3\n",
            "5\n",
            "7\n",
            "9\n",
            "11\n",
            "13\n",
            "15\n",
            "17\n",
            "19\n"
          ]
        }
      ]
    },
    {
      "cell_type": "code",
      "metadata": {
        "id": "dTWliNGL5c5p"
      },
      "source": [
        "class Fibo:\n",
        "  def __iter__(fibo):\n",
        "    fibo.first = -1\n",
        "    fibo.second = 1\n",
        "    return fibo\n",
        "  def __next__(fibo):\n",
        "    fibo.third = fibo.first + fibo.second # 0\n",
        "    fibo.first = fibo.second # \n",
        "    fibo.second = fibo.third\n",
        "\n",
        "    return fibo.third "
      ],
      "execution_count": 110,
      "outputs": []
    },
    {
      "cell_type": "code",
      "metadata": {
        "colab": {
          "base_uri": "https://localhost:8080/"
        },
        "id": "9PEnPmRa7SX1",
        "outputId": "d02839b7-127f-4c5b-e1c1-386b88d3c912"
      },
      "source": [
        "i = iter(Fibo())\n",
        "for j in range(10):\n",
        "  print(next(i))"
      ],
      "execution_count": 111,
      "outputs": [
        {
          "output_type": "stream",
          "name": "stdout",
          "text": [
            "0\n",
            "1\n",
            "1\n",
            "2\n",
            "3\n",
            "5\n",
            "8\n",
            "13\n",
            "21\n",
            "34\n"
          ]
        }
      ]
    },
    {
      "cell_type": "code",
      "metadata": {
        "id": "245gQQB17dwu"
      },
      "source": [
        ""
      ],
      "execution_count": null,
      "outputs": []
    }
  ]
}