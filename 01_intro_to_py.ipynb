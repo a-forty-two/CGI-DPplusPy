{
  "nbformat": 4,
  "nbformat_minor": 0,
  "metadata": {
    "colab": {
      "name": "Untitled25.ipynb",
      "provenance": [],
      "authorship_tag": "ABX9TyOwyA9yNanH+dbbxIYA/vbw",
      "include_colab_link": true
    },
    "kernelspec": {
      "name": "python3",
      "display_name": "Python 3"
    },
    "language_info": {
      "name": "python"
    }
  },
  "cells": [
    {
      "cell_type": "markdown",
      "metadata": {
        "id": "view-in-github",
        "colab_type": "text"
      },
      "source": [
        "<a href=\"https://colab.research.google.com/github/a-forty-two/CGI-DPplusPy/blob/main/01_intro_to_py.ipynb\" target=\"_parent\"><img src=\"https://colab.research.google.com/assets/colab-badge.svg\" alt=\"Open In Colab\"/></a>"
      ]
    },
    {
      "cell_type": "code",
      "metadata": {
        "id": "nTOtMnNi1XMp"
      },
      "source": [
        "#python -> Spark, Synapse Spark Pools-> PySpark or Scala "
      ],
      "execution_count": 1,
      "outputs": []
    },
    {
      "cell_type": "code",
      "metadata": {
        "id": "FtxEzxSp3Uqu"
      },
      "source": [
        "# EASY to write\n",
        "# why?-> easy to read, simple syntax\n",
        "# why not?-> SPEED and performance-> 72 times slower than C++/C#, 15-20 times slower than Java "
      ],
      "execution_count": 2,
      "outputs": []
    },
    {
      "cell_type": "code",
      "metadata": {
        "id": "smK0zMoa3grQ"
      },
      "source": [
        "# Pipelines-> small amount of instructions with isolation ,\n",
        " # transforming the data -> correction and ease is more important than VOLUME\n",
        " # PARALLEL processing "
      ],
      "execution_count": 3,
      "outputs": []
    },
    {
      "cell_type": "code",
      "metadata": {
        "id": "WT1lYVzv3vAo"
      },
      "source": [
        "# python-> precompiled C++\n",
        "# Datasets -> read/writing, stats, tansforming, visualize \n",
        "# Application program interface-> REST-> GET/POST/PUT/DEL \n",
        "# Machine Learning-> try "
      ],
      "execution_count": 5,
      "outputs": []
    },
    {
      "cell_type": "code",
      "metadata": {
        "id": "dynWJdpK5KnG"
      },
      "source": [
        "#OBJECT ORIENTED"
      ],
      "execution_count": 6,
      "outputs": []
    },
    {
      "cell_type": "code",
      "metadata": {
        "id": "tGX3n9ur76sM"
      },
      "source": [
        "# class-> special functions-> initialize the constructors and main function of C/C++ running behind the scenes\n",
        "# INDENTATION-> spaces, tabs-> misplacing them will result in compilation error"
      ],
      "execution_count": 7,
      "outputs": []
    },
    {
      "cell_type": "code",
      "metadata": {
        "id": "bfbd94j48Fk2"
      },
      "source": [
        "def banana(val1,val2):\n",
        "  return val1+val2"
      ],
      "execution_count": 8,
      "outputs": []
    },
    {
      "cell_type": "code",
      "metadata": {
        "colab": {
          "base_uri": "https://localhost:8080/"
        },
        "id": "F9Nud0Gj8Obl",
        "outputId": "06af0857-69de-40d0-d216-b2e0151042d0"
      },
      "source": [
        "banana(1,2)"
      ],
      "execution_count": 9,
      "outputs": [
        {
          "output_type": "execute_result",
          "data": {
            "text/plain": [
              "3"
            ]
          },
          "metadata": {},
          "execution_count": 9
        }
      ]
    },
    {
      "cell_type": "code",
      "metadata": {
        "colab": {
          "base_uri": "https://localhost:8080/",
          "height": 35
        },
        "id": "xUxZR5dJ8QB2",
        "outputId": "53483d1e-9ad0-4919-cdbb-b8d644f389c4"
      },
      "source": [
        "banana(\"hello\",\"world\")"
      ],
      "execution_count": 10,
      "outputs": [
        {
          "output_type": "execute_result",
          "data": {
            "application/vnd.google.colaboratory.intrinsic+json": {
              "type": "string"
            },
            "text/plain": [
              "'helloworld'"
            ]
          },
          "metadata": {},
          "execution_count": 10
        }
      ]
    },
    {
      "cell_type": "code",
      "metadata": {
        "colab": {
          "base_uri": "https://localhost:8080/",
          "height": 263
        },
        "id": "MzGwlIMC8SEu",
        "outputId": "2bdd76a8-577e-4750-95fd-973072aaf2a3"
      },
      "source": [
        "banana(\"hello\", 3)\n",
        "# "
      ],
      "execution_count": 11,
      "outputs": [
        {
          "output_type": "error",
          "ename": "TypeError",
          "evalue": "ignored",
          "traceback": [
            "\u001b[0;31m---------------------------------------------------------------------------\u001b[0m",
            "\u001b[0;31mTypeError\u001b[0m                                 Traceback (most recent call last)",
            "\u001b[0;32m<ipython-input-11-f2fefabe06d9>\u001b[0m in \u001b[0;36m<module>\u001b[0;34m()\u001b[0m\n\u001b[0;32m----> 1\u001b[0;31m \u001b[0mbanana\u001b[0m\u001b[0;34m(\u001b[0m\u001b[0;34m\"hello\"\u001b[0m\u001b[0;34m,\u001b[0m \u001b[0;36m3\u001b[0m\u001b[0;34m)\u001b[0m\u001b[0;34m\u001b[0m\u001b[0;34m\u001b[0m\u001b[0m\n\u001b[0m",
            "\u001b[0;32m<ipython-input-8-46c186efaf6f>\u001b[0m in \u001b[0;36mbanana\u001b[0;34m(val1, val2)\u001b[0m\n\u001b[1;32m      1\u001b[0m \u001b[0;32mdef\u001b[0m \u001b[0mbanana\u001b[0m\u001b[0;34m(\u001b[0m\u001b[0mval1\u001b[0m\u001b[0;34m,\u001b[0m\u001b[0mval2\u001b[0m\u001b[0;34m)\u001b[0m\u001b[0;34m:\u001b[0m\u001b[0;34m\u001b[0m\u001b[0;34m\u001b[0m\u001b[0m\n\u001b[0;32m----> 2\u001b[0;31m   \u001b[0;32mreturn\u001b[0m \u001b[0mval1\u001b[0m\u001b[0;34m+\u001b[0m\u001b[0mval2\u001b[0m\u001b[0;34m\u001b[0m\u001b[0;34m\u001b[0m\u001b[0m\n\u001b[0m",
            "\u001b[0;31mTypeError\u001b[0m: can only concatenate str (not \"int\") to str"
          ]
        }
      ]
    },
    {
      "cell_type": "code",
      "metadata": {
        "id": "luDVLUwr8VEC"
      },
      "source": [
        "fl = open('blah.txt', 'wt') # r/w/a , text mode or binary mode\n",
        "fl.write(banana(\"hello\",\"world\"))\n",
        "fl.close()"
      ],
      "execution_count": 12,
      "outputs": []
    },
    {
      "cell_type": "code",
      "metadata": {
        "id": "97m5mvpW8wUc"
      },
      "source": [
        ""
      ],
      "execution_count": null,
      "outputs": []
    }
  ]
}